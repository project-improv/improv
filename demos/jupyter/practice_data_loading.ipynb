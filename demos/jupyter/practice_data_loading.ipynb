{
 "cells": [
  {
   "cell_type": "markdown",
   "id": "aa2bd23a",
   "metadata": {},
   "source": [
    "# Starting and accessing the store"
   ]
  },
  {
   "cell_type": "code",
   "execution_count": null,
   "id": "0f3a37e1",
   "metadata": {},
   "outputs": [],
   "source": [
    "import subprocess\n",
    "from improv.store import Limbo"
   ]
  },
  {
   "cell_type": "code",
   "execution_count": null,
   "id": "c1218c5d",
   "metadata": {},
   "outputs": [],
   "source": [
    "# set up the store\n",
    "p = subprocess.Popen([\"/home/ameliacang7/anaconda3/envs/improv/bin/plasma_store\", \n",
    "                      \"-s\", \"/tmp/store\", \"-m\", str(10000000)],\n",
    "                     \\stdout=subprocess.DEVNULL, stderr=subprocess.DEVNULL)"
   ]
  },
  {
   "cell_type": "code",
   "execution_count": null,
   "id": "40b3a8fb",
   "metadata": {},
   "outputs": [],
   "source": [
    "# set up the store interface with Limbo class\n",
    "lmb = Limbo(store_loc = \"/tmp/store\")"
   ]
  },
  {
   "cell_type": "code",
   "execution_count": null,
   "id": "388d546a",
   "metadata": {},
   "outputs": [],
   "source": [
    "# checking put and get functions\n",
    "id = lmb.put(37, \"this is 37\") #putting this message into the store, located at id\n",
    "val = lmb.getID(id) #getting the id from the store and retrieving the value\n",
    "val"
   ]
  },
  {
   "cell_type": "code",
   "execution_count": null,
   "id": "d93950c4",
   "metadata": {},
   "outputs": [],
   "source": [
    "# make sure to kill the process when you are done\n",
    "p.kill()"
   ]
  },
  {
   "cell_type": "markdown",
   "id": "680448ae",
   "metadata": {},
   "source": [
    "# Example server and client messaging with ZMQ"
   ]
  },
  {
   "cell_type": "code",
   "execution_count": null,
   "id": "0d152569",
   "metadata": {},
   "outputs": [],
   "source": [
    "import zmq\n",
    "import sys"
   ]
  },
  {
   "cell_type": "code",
   "execution_count": null,
   "id": "6cbaed12",
   "metadata": {},
   "outputs": [],
   "source": [
    "# setting up the jupyter notebook as the client\n",
    "\n",
    "port = \"5556\"\n",
    "context = zmq.Context()\n",
    "print(\"Connecting to server...\")\n",
    "socket = context.socket(zmq.REQ)\n",
    "socket.connect (\"tcp://localhost:%s\" % port)"
   ]
  },
  {
   "cell_type": "markdown",
   "id": "d67c5735",
   "metadata": {},
   "source": [
    "Before the messages between the server and the client start, the server file (python example_server.py) must be ran. In another terminal besides for the terminal used for this Jupyter Notebook, run `python example_server.py`.\n",
    "\n",
    "Afterwards, run the next cell to see the messages being sent between the client and the server.\n"
   ]
  },
  {
   "cell_type": "code",
   "execution_count": null,
   "id": "8bbacc89",
   "metadata": {},
   "outputs": [],
   "source": [
    "# messaging between client and server over 10 requests\n",
    "\n",
    "# sending 10 requests to the server\n",
    "for request in range (1,10):\n",
    "    print(\"Sending request \", request,\"...\")\n",
    "    socket.send_string(\"Hello\")\n",
    "    #  get the reply\n",
    "    message = socket.recv()\n",
    "    print(\"Received reply \", request, \"[\", message, \"]\")"
   ]
  },
  {
   "cell_type": "markdown",
   "id": "bb7fee4d",
   "metadata": {},
   "source": [
    "# Attemping to load image data live with ZMQ"
   ]
  },
  {
   "cell_type": "code",
   "execution_count": null,
   "id": "4ea4f592",
   "metadata": {},
   "outputs": [],
   "source": [
    "import zmq\n",
    "import sys\n",
    "import numpy as np\n",
    "import matplotlib.pylab as plt\n",
    "import math\n",
    "import time\n",
    "from IPython.display import clear_output\n",
    "import pyarrow.plasma as plasma\n",
    "\n",
    "import subprocess\n",
    "from improv.store import Limbo"
   ]
  },
  {
   "cell_type": "code",
   "execution_count": null,
   "id": "b36d08e9",
   "metadata": {},
   "outputs": [],
   "source": [
    "# setting up the socket and connecting to the store\n",
    "\n",
    "lmb = Limbo(store_loc = \"/tmp/store\")\n",
    "context = zmq.Context()\n",
    "socket = context.socket(zmq.SUB)\n",
    "socket.connect(\"tcp://127.0.0.1:5555\")\n",
    "socket.setsockopt_string(zmq.SUBSCRIBE, '')"
   ]
  },
  {
   "cell_type": "markdown",
   "id": "6b2b01b1",
   "metadata": {},
   "source": [
    "Before running the next cell, the server needs to be started. In another terminal aside from the terminal for this Jupyter Notebook, run `python acq_zmq.py`.\n",
    "\n",
    "Now, the following cells can be ran"
   ]
  },
  {
   "cell_type": "code",
   "execution_count": null,
   "id": "fb829aa8",
   "metadata": {},
   "outputs": [],
   "source": [
    "# receiving messages from server (acq_zmq.py)\n",
    "n=1\n",
    "print(\"Waiting to receive message from zmq ...\")\n",
    "while True:\n",
    "    clear_output(wait=True)\n",
    "    message = socket.recv()\n",
    "    print(n, message)\n",
    "    n = n+1"
   ]
  },
  {
   "cell_type": "code",
   "execution_count": null,
   "id": "9c8bf34a",
   "metadata": {},
   "outputs": [],
   "source": [
    "# accessing id and data from store\n",
    "import pyarrow.plasma as plasma\n",
    "dataobj = plasma.ObjectID(message)\n",
    "data = lmb.getID(dataobj)\n",
    "data"
   ]
  },
  {
   "cell_type": "code",
   "execution_count": null,
   "id": "c7da0813",
   "metadata": {},
   "outputs": [],
   "source": [
    "plt.imshow(data, cmap='inferno')"
   ]
  },
  {
   "cell_type": "markdown",
   "id": "bd0f087e",
   "metadata": {},
   "source": [
    "With this code, we are receiving live messages from the server, acq_zmq.py. However, the image isn't updating properly. The Jupyter Notebook `data_loading` has the working code."
   ]
  }
 ],
 "metadata": {
  "kernelspec": {
   "display_name": "improv-kernel",
   "language": "python",
   "name": "improv-kernel"
  },
  "language_info": {
   "codemirror_mode": {
    "name": "ipython",
    "version": 3
   },
   "file_extension": ".py",
   "mimetype": "text/x-python",
   "name": "python",
   "nbconvert_exporter": "python",
   "pygments_lexer": "ipython3",
   "version": "3.9.13"
  }
 },
 "nbformat": 4,
 "nbformat_minor": 5
}
