{
 "cells": [
  {
   "cell_type": "markdown",
   "id": "01c2b181",
   "metadata": {},
   "source": [
    "# Starting and accessing the store"
   ]
  },
  {
   "cell_type": "code",
   "execution_count": null,
   "id": "a3f0a3ea",
   "metadata": {},
   "outputs": [],
   "source": [
    "import subprocess\n",
    "from improv.store import Limbo\n",
    "\n",
    "#set up the store\n",
    "p = subprocess.Popen([\"/home/ameliacang7/anaconda3/envs/improv/bin/plasma_store\", \"-s\", \"/tmp/store\", \"-m\", str(10000000)],\\\n",
    "    stdout=subprocess.DEVNULL, stderr=subprocess.DEVNULL)\n",
    "\n",
    "\n",
    "#create limbo class \n",
    "# do a put or a get (interface of store)\n",
    "# keys are messages as zmq - or set up explicit link\n",
    "\n",
    "#store is like file system/is its own path\n",
    "\n",
    "#make actor out of jupyter notebook\n",
    "#not running nexxus, make jn run like its own actor"
   ]
  },
  {
   "cell_type": "code",
   "execution_count": null,
   "id": "c6f452c3",
   "metadata": {},
   "outputs": [],
   "source": [
    "#set up store interface with limbo class\n",
    "lmb = Limbo(store_loc = \"/tmp/store\")"
   ]
  },
  {
   "cell_type": "code",
   "execution_count": null,
   "id": "0cb7bce9",
   "metadata": {},
   "outputs": [],
   "source": [
    "#checking put and get functions\n",
    "id = lmb.put(37, \"this is 37\") #putting this message, located at id\n",
    "val = lmb.getID(id) #getting back id message and storing as val\n",
    "val"
   ]
  },
  {
   "cell_type": "code",
   "execution_count": null,
   "id": "ceed979b",
   "metadata": {},
   "outputs": [],
   "source": [
    "p.kill()"
   ]
  },
  {
   "cell_type": "markdown",
   "id": "efa8dc58",
   "metadata": {},
   "source": [
    "# Example server and client messaging with ZMQ"
   ]
  },
  {
   "cell_type": "code",
   "execution_count": 1,
   "id": "a8b31f35",
   "metadata": {},
   "outputs": [],
   "source": [
    "import zmq\n",
    "import sys"
   ]
  },
  {
   "cell_type": "code",
   "execution_count": 2,
   "id": "85c1e462",
   "metadata": {},
   "outputs": [
    {
     "name": "stdout",
     "output_type": "stream",
     "text": [
      "Connecting to server...\n"
     ]
    },
    {
     "data": {
      "text/plain": [
       "<SocketContext(connect='tcp://localhost:5556')>"
      ]
     },
     "execution_count": 2,
     "metadata": {},
     "output_type": "execute_result"
    }
   ],
   "source": [
    "# setting up the client\n",
    "\n",
    "port = \"5556\"\n",
    "\n",
    "context = zmq.Context()\n",
    "print(\"Connecting to server...\")\n",
    "socket = context.socket(zmq.REQ)\n",
    "socket.connect (\"tcp://localhost:%s\" % port)"
   ]
  },
  {
   "cell_type": "code",
   "execution_count": null,
   "id": "d99931e6",
   "metadata": {},
   "outputs": [],
   "source": [
    "%%bash\n",
    "python example_server.py \n",
    "# run the server in the terminal\n",
    "\n",
    "# not working, just do it manually for now"
   ]
  },
  {
   "cell_type": "code",
   "execution_count": null,
   "id": "04361031",
   "metadata": {},
   "outputs": [],
   "source": [
    "# messaging between client and server\n",
    "\n",
    "#  Do 10 requests, waiting each time for a response\n",
    "for request in range (1,10):\n",
    "    print(\"Sending request \", request,\"...\")\n",
    "    socket.send_string(\"Hello\")\n",
    "    #  Get the reply.\n",
    "    message = socket.recv()\n",
    "    print(\"Received reply \", request, \"[\", message, \"]\")"
   ]
  },
  {
   "cell_type": "markdown",
   "id": "7e6eb373",
   "metadata": {},
   "source": [
    "# Data loading with ZMQ\n",
    "this jupyter notebook is the client and acq_zmq.py is the server"
   ]
  },
  {
   "cell_type": "code",
   "execution_count": 1,
   "id": "bbd14a1d",
   "metadata": {},
   "outputs": [],
   "source": [
    "import zmq\n",
    "#%connect_info"
   ]
  },
  {
   "cell_type": "code",
   "execution_count": 5,
   "id": "d8f7a1f7",
   "metadata": {},
   "outputs": [
    {
     "name": "stdout",
     "output_type": "stream",
     "text": [
      "Waiting to receive message\n",
      "b'\\xf7u\\xaeR\\xbe$jwv+a\\x86\\x99\\x06\\x00\\x88\\xca\\xd8\\x8d<'\n",
      "Received reply  1 [ b'\\xf7u\\xaeR\\xbe$jwv+a\\x86\\x99\\x06\\x00\\x88\\xca\\xd8\\x8d<' ]\n"
     ]
    }
   ],
   "source": [
    "# port = \"50120\"\n",
    "context = zmq.Context()\n",
    "socket = context.socket(zmq.SUB)\n",
    "socket.connect(\"tcp://127.0.0.1:5555\") #\"tcp://localhost:50120\"\n",
    "\n",
    "socket.setsockopt_string(zmq.SUBSCRIBE, '')\n",
    "\n",
    "# while True:\n",
    "#     message = socket.recv()\n",
    "#     print(message)\n",
    "    \n",
    "for request in range (1,2):\n",
    "#     print(\"Sending request \", request,\"...\")\n",
    "#     socket.send_string(\"hi from jupyter!\")\n",
    "    #  Get the reply.\n",
    "    print(\"Waiting to receive message\")\n",
    "    message = socket.recv()\n",
    "    print(message)\n",
    "    print(\"Received reply \", request, \"[\", message, \"]\")"
   ]
  }
 ],
 "metadata": {
  "kernelspec": {
   "display_name": "improv-kernel",
   "language": "python",
   "name": "improv-kernel"
  },
  "language_info": {
   "codemirror_mode": {
    "name": "ipython",
    "version": 3
   },
   "file_extension": ".py",
   "mimetype": "text/x-python",
   "name": "python",
   "nbconvert_exporter": "python",
   "pygments_lexer": "ipython3",
   "version": "3.9.13"
  }
 },
 "nbformat": 4,
 "nbformat_minor": 5
}
