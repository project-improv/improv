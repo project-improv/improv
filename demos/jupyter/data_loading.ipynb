{
 "cells": [
  {
   "cell_type": "markdown",
   "id": "913fa2d0",
   "metadata": {},
   "source": [
    "# Starting and accessing the store"
   ]
  },
  {
   "cell_type": "code",
   "execution_count": null,
   "id": "a3f0a3ea",
   "metadata": {},
   "outputs": [],
   "source": [
    "import subprocess\n",
    "from improv.store import Limbo\n",
    "\n",
    "#set up the store\n",
    "p = subprocess.Popen([\"/home/ameliacang7/anaconda3/envs/improv/bin/plasma_store\", \"-s\", \"/tmp/store\", \"-m\", str(10000000)],\\\n",
    "    stdout=subprocess.DEVNULL, stderr=subprocess.DEVNULL)\n",
    "\n",
    "\n",
    "#create limbo class \n",
    "# do a put or a get (interface of store)\n",
    "# keys are messages as zmq - or set up explicit link\n",
    "\n",
    "#store is like file system/is its own path\n",
    "\n",
    "#make actor out of jupyter notebook\n",
    "#not running nexxus, make jn run like its own actor"
   ]
  },
  {
   "cell_type": "code",
   "execution_count": null,
   "id": "c6f452c3",
   "metadata": {},
   "outputs": [],
   "source": [
    "#set up store interface with limbo class\n",
    "lmb = Limbo(store_loc = \"/tmp/store\")"
   ]
  },
  {
   "cell_type": "code",
   "execution_count": null,
   "id": "0cb7bce9",
   "metadata": {},
   "outputs": [],
   "source": [
    "#checking put and get functions\n",
    "id = lmb.put(37, \"this is 37\") #putting this message, located at id\n",
    "val = lmb.getID(id) #getting back id message and storing as val\n",
    "val"
   ]
  },
  {
   "cell_type": "code",
   "execution_count": null,
   "id": "ceed979b",
   "metadata": {},
   "outputs": [],
   "source": [
    "p.kill()"
   ]
  },
  {
   "cell_type": "markdown",
   "id": "f7b25c54",
   "metadata": {},
   "source": [
    "# Example server and client messaging with ZMQ"
   ]
  },
  {
   "cell_type": "code",
   "execution_count": 1,
   "id": "a8b31f35",
   "metadata": {},
   "outputs": [],
   "source": [
    "import zmq\n",
    "import sys"
   ]
  },
  {
   "cell_type": "code",
   "execution_count": null,
   "id": "85c1e462",
   "metadata": {},
   "outputs": [],
   "source": [
    "# setting up the client\n",
    "\n",
    "port = \"5556\"\n",
    "\n",
    "context = zmq.Context()\n",
    "print(\"Connecting to server...\")\n",
    "socket = context.socket(zmq.REQ)\n",
    "socket.connect (\"tcp://localhost:%s\" % port)"
   ]
  },
  {
   "cell_type": "code",
   "execution_count": null,
   "id": "d99931e6",
   "metadata": {},
   "outputs": [],
   "source": [
    "%%bash\n",
    "python example_server.py \n",
    "# run the server in the terminal\n",
    "\n",
    "# not working, just do it manually for now"
   ]
  },
  {
   "cell_type": "code",
   "execution_count": null,
   "id": "04361031",
   "metadata": {},
   "outputs": [],
   "source": [
    "# messaging between client and server\n",
    "\n",
    "#  Do 10 requests, waiting each time for a response\n",
    "for request in range (1,10):\n",
    "    print(\"Sending request \", request,\"...\")\n",
    "    socket.send_string(\"Hello\")\n",
    "    #  Get the reply.\n",
    "    message = socket.recv()\n",
    "    print(\"Received reply \", request, \"[\", message, \"]\")"
   ]
  },
  {
   "cell_type": "markdown",
   "id": "4c0f1051",
   "metadata": {},
   "source": [
    "# Data loading with ZMQ\n",
    "this jupyter notebook is the client and acq_zmq.py is the server"
   ]
  },
  {
   "cell_type": "code",
   "execution_count": 12,
   "id": "591a6f46",
   "metadata": {},
   "outputs": [
    {
     "ename": "ZMQError",
     "evalue": "Operation cannot be accomplished in current state",
     "output_type": "error",
     "traceback": [
      "\u001b[0;31m---------------------------------------------------------------------------\u001b[0m",
      "\u001b[0;31mZMQError\u001b[0m                                  Traceback (most recent call last)",
      "Input \u001b[0;32mIn [12]\u001b[0m, in \u001b[0;36m<cell line: 7>\u001b[0;34m()\u001b[0m\n\u001b[1;32m      4\u001b[0m socket\u001b[38;5;241m.\u001b[39mconnect (\u001b[38;5;124m\"\u001b[39m\u001b[38;5;124mtcp://localhost:\u001b[39m\u001b[38;5;132;01m%s\u001b[39;00m\u001b[38;5;124m\"\u001b[39m \u001b[38;5;241m%\u001b[39m port)\n\u001b[1;32m      6\u001b[0m \u001b[38;5;28;01mwhile\u001b[39;00m \u001b[38;5;28;01mTrue\u001b[39;00m:\n\u001b[0;32m----> 7\u001b[0m     message \u001b[38;5;241m=\u001b[39m \u001b[43msocket\u001b[49m\u001b[38;5;241;43m.\u001b[39;49m\u001b[43mrecv\u001b[49m\u001b[43m(\u001b[49m\u001b[43m)\u001b[49m\n\u001b[1;32m      8\u001b[0m     \u001b[38;5;28mprint\u001b[39m(message)\n",
      "File \u001b[0;32mzmq/backend/cython/socket.pyx:803\u001b[0m, in \u001b[0;36mzmq.backend.cython.socket.Socket.recv\u001b[0;34m()\u001b[0m\n",
      "File \u001b[0;32mzmq/backend/cython/socket.pyx:839\u001b[0m, in \u001b[0;36mzmq.backend.cython.socket.Socket.recv\u001b[0;34m()\u001b[0m\n",
      "File \u001b[0;32mzmq/backend/cython/socket.pyx:193\u001b[0m, in \u001b[0;36mzmq.backend.cython.socket._recv_copy\u001b[0;34m()\u001b[0m\n",
      "File \u001b[0;32mzmq/backend/cython/socket.pyx:188\u001b[0m, in \u001b[0;36mzmq.backend.cython.socket._recv_copy\u001b[0;34m()\u001b[0m\n",
      "File \u001b[0;32m~/anaconda3/envs/improv/lib/python3.9/site-packages/zmq/backend/cython/checkrc.pxd:28\u001b[0m, in \u001b[0;36mzmq.backend.cython.checkrc._check_rc\u001b[0;34m()\u001b[0m\n",
      "\u001b[0;31mZMQError\u001b[0m: Operation cannot be accomplished in current state"
     ]
    }
   ],
   "source": [
    "port = \"5556\"\n",
    "context = zmq.Context()\n",
    "socket = context.socket(zmq.REQ)\n",
    "socket.connect (\"tcp://localhost:%s\" % port)\n",
    "\n",
    "while True:\n",
    "    message = socket.recv()\n",
    "    print(message)\n"
   ]
  }
 ],
 "metadata": {
  "kernelspec": {
   "display_name": "improv-kernel",
   "language": "python",
   "name": "improv-kernel"
  },
  "language_info": {
   "codemirror_mode": {
    "name": "ipython",
    "version": 3
   },
   "file_extension": ".py",
   "mimetype": "text/x-python",
   "name": "python",
   "nbconvert_exporter": "python",
   "pygments_lexer": "ipython3",
   "version": "3.9.13"
  }
 },
 "nbformat": 4,
 "nbformat_minor": 5
}
