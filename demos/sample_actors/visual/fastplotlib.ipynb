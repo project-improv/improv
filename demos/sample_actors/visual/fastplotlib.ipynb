{
 "cells": [
  {
   "cell_type": "markdown",
   "id": "83566503-c31b-4d83-b6f0-173bc9b2102d",
   "metadata": {},
   "source": [
    "## `fastplotlib` demo"
   ]
  },
  {
   "cell_type": "code",
   "execution_count": 1,
   "id": "initial_id",
   "metadata": {},
   "outputs": [],
   "source": [
    "import numpy as np\n",
    "import zmq\n",
    "import fastplotlib as fpl"
   ]
  },
  {
   "cell_type": "markdown",
   "id": "24f4a955-c7c5-4b9d-a653-d5daecb27d04",
   "metadata": {},
   "source": [
    "### Setup zmq subscriber client"
   ]
  },
  {
   "cell_type": "code",
   "execution_count": 2,
   "id": "b4182903-b4fe-462a-9f92-71d254bb5e24",
   "metadata": {},
   "outputs": [
    {
     "data": {
      "text/plain": [
       "<SocketContext(connect='tcp://127.0.0.1:5555')>"
      ]
     },
     "execution_count": 2,
     "metadata": {},
     "output_type": "execute_result"
    }
   ],
   "source": [
    "context = zmq.Context()\n",
    "sub = context.socket(zmq.SUB)\n",
    "sub.setsockopt(zmq.SUBSCRIBE, b\"\")\n",
    "\n",
    "# keep only the most recent message\n",
    "sub.setsockopt(zmq.CONFLATE, 1)\n",
    "\n",
    "# address must match publisher in Processor actor\n",
    "sub.connect(\"tcp://127.0.0.1:5555\")"
   ]
  },
  {
   "cell_type": "code",
   "execution_count": 3,
   "id": "b06167bf-5220-46f4-bd13-3506d848bf35",
   "metadata": {},
   "outputs": [],
   "source": [
    "def get_buffer():\n",
    "    \"\"\"\n",
    "    Gets the buffer from the publisher\n",
    "    \"\"\"\n",
    "    try:\n",
    "        b = sub.recv(zmq.NOBLOCK)\n",
    "    except zmq.Again:\n",
    "        pass\n",
    "    else:\n",
    "        return b\n",
    "    \n",
    "    return None"
   ]
  },
  {
   "cell_type": "code",
   "execution_count": 4,
   "id": "e6cf7f33-7334-4e05-8050-14331136a8c2",
   "metadata": {},
   "outputs": [
    {
     "data": {
      "application/vnd.jupyter.widget-view+json": {
       "model_id": "f52d68d4cee54410907fcd108fc99b7b",
       "version_major": 2,
       "version_minor": 0
      },
      "text/plain": [
       "RFBOutputContext()"
      ]
     },
     "metadata": {},
     "output_type": "display_data"
    },
    {
     "name": "stderr",
     "output_type": "stream",
     "text": [
      "No config found!\n",
      "EGL says it can present to the window but not natively\n",
      "/home/clewis7/venvs/improv/lib/python3.10/site-packages/fastplotlib/graphics/_features/_base.py:34: UserWarning: converting float64 array to float32\n",
      "  warn(f\"converting {array.dtype} array to float32\")\n"
     ]
    },
    {
     "data": {
      "application/vnd.jupyter.widget-view+json": {
       "model_id": "97ddc7b83c5b4085b42b8c63cad71bda",
       "version_major": 2,
       "version_minor": 0
      },
      "text/plain": [
       "JupyterOutputContext(children=(JupyterWgpuCanvas(), IpywidgetToolBar(children=(Button(icon='expand-arrows-alt'…"
      ]
     },
     "execution_count": 4,
     "metadata": {},
     "output_type": "execute_result"
    }
   ],
   "source": [
    "plot = fpl.Plot()\n",
    "\n",
    "# initialize line plot with pre-allocated with cosine\n",
    "xs = np.linspace(-10, 10, 100)\n",
    "ys = np.cos(xs)\n",
    "\n",
    "plot.add_line(data=np.dstack((xs, ys))[0], name=\"line\")\n",
    "\n",
    "def update_frame(p):\n",
    "    # recieve memory with buffer\n",
    "    buff = get_buffer()\n",
    "    \n",
    "    if buff is not None:\n",
    "        # numpy array from buffer\n",
    "        a = np.frombuffer(buff, dtype=np.float64)\n",
    "        ix = a[-1]\n",
    "        # set graphic data\n",
    "        p[\"line\"].data = a[:-1].reshape(100, 2)\n",
    "        p.set_title(f\"frame: {ix}\")\n",
    "        # change graphic color\n",
    "        if ix % 2 == 0:\n",
    "            p[\"line\"].colors = \"blue\"\n",
    "        else:\n",
    "            p[\"line\"].colors = \"green\"\n",
    "\n",
    "plot.add_animations(update_frame)\n",
    "              \n",
    "plot.show()"
   ]
  },
  {
   "cell_type": "markdown",
   "id": "834b064a-bf32-431f-9e92-54d78b6c5327",
   "metadata": {},
   "source": [
    "## `fastplotlib` is non-blocking!"
   ]
  },
  {
   "cell_type": "code",
   "execution_count": null,
   "id": "0832c6b1-7451-4837-9930-a3fe8c2a7d04",
   "metadata": {},
   "outputs": [],
   "source": [
    "plot.canvas.get_stats()"
   ]
  },
  {
   "cell_type": "code",
   "execution_count": null,
   "id": "46661b72-5132-410e-93ce-a45e014309f5",
   "metadata": {},
   "outputs": [],
   "source": []
  }
 ],
 "metadata": {
  "kernelspec": {
   "display_name": "Python 3 (ipykernel)",
   "language": "python",
   "name": "python3"
  },
  "language_info": {
   "codemirror_mode": {
    "name": "ipython",
    "version": 3
   },
   "file_extension": ".py",
   "mimetype": "text/x-python",
   "name": "python",
   "nbconvert_exporter": "python",
   "pygments_lexer": "ipython3",
   "version": "3.10.5"
  }
 },
 "nbformat": 4,
 "nbformat_minor": 5
}
