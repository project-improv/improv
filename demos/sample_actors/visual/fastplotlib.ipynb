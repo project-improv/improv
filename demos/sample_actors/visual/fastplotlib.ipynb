{
 "cells": [
  {
   "cell_type": "markdown",
   "id": "83566503-c31b-4d83-b6f0-173bc9b2102d",
   "metadata": {},
   "source": [
    "## `fastplotlib` demo"
   ]
  },
  {
   "cell_type": "code",
   "execution_count": 9,
   "id": "initial_id",
   "metadata": {},
   "outputs": [],
   "source": [
    "import numpy as np\n",
    "import zmq\n",
    "import fastplotlib as fpl\n",
    "from wgpu.backends import wgpu_native"
   ]
  },
  {
   "cell_type": "markdown",
   "id": "74e6f9a5-e4f3-4033-9529-20fcf5068703",
   "metadata": {},
   "source": [
    "### Check if GPU or rendering with CPU via lavapipe is available"
   ]
  },
  {
   "cell_type": "code",
   "execution_count": 10,
   "id": "093c8fd4-bbf8-4374-a661-494a61a73cca",
   "metadata": {},
   "outputs": [],
   "source": [
    "if len(wgpu_native.enumerate_adapters()) < 1:\n",
    "  raise IOError(\"No WGPU compatible adapter found\")"
   ]
  },
  {
   "cell_type": "markdown",
   "id": "24f4a955-c7c5-4b9d-a653-d5daecb27d04",
   "metadata": {},
   "source": [
    "### Setup zmq subscriber client"
   ]
  },
  {
   "cell_type": "code",
   "execution_count": 11,
   "id": "b4182903-b4fe-462a-9f92-71d254bb5e24",
   "metadata": {},
   "outputs": [
    {
     "data": {
      "text/plain": [
       "<SocketContext(connect='tcp://127.0.0.1:5555')>"
      ]
     },
     "execution_count": 11,
     "metadata": {},
     "output_type": "execute_result"
    }
   ],
   "source": [
    "context = zmq.Context()\n",
    "sub = context.socket(zmq.SUB)\n",
    "sub.setsockopt(zmq.SUBSCRIBE, b\"\")\n",
    "\n",
    "# keep only the most recent message\n",
    "sub.setsockopt(zmq.CONFLATE, 1)\n",
    "\n",
    "# address must match publisher in Processor actor\n",
    "sub.connect(\"tcp://127.0.0.1:5555\")"
   ]
  },
  {
   "cell_type": "code",
   "execution_count": 12,
   "id": "b06167bf-5220-46f4-bd13-3506d848bf35",
   "metadata": {},
   "outputs": [],
   "source": [
    "def get_buffer():\n",
    "    \"\"\"\n",
    "    Gets the buffer from the publisher\n",
    "    \"\"\"\n",
    "    try:\n",
    "        b = sub.recv(zmq.NOBLOCK)\n",
    "    except zmq.Again:\n",
    "        pass\n",
    "    else:\n",
    "        return b\n",
    "    \n",
    "    return None"
   ]
  },
  {
   "cell_type": "code",
   "execution_count": 13,
   "id": "e6cf7f33-7334-4e05-8050-14331136a8c2",
   "metadata": {},
   "outputs": [
    {
     "data": {
      "application/vnd.jupyter.widget-view+json": {
       "model_id": "9fb0928dee534e4387e3fbbcbfa5d532",
       "version_major": 2,
       "version_minor": 0
      },
      "text/plain": [
       "RFBOutputContext()"
      ]
     },
     "metadata": {},
     "output_type": "display_data"
    },
    {
     "data": {
      "application/vnd.jupyter.widget-view+json": {
       "model_id": "478b8d5d5ef04195b0c6076c8ba9fad2",
       "version_major": 2,
       "version_minor": 0
      },
      "text/plain": [
       "JupyterOutputContext(children=(JupyterWgpuCanvas(), IpywidgetToolBar(children=(Button(icon='expand-arrows-alt'…"
      ]
     },
     "execution_count": 13,
     "metadata": {},
     "output_type": "execute_result"
    }
   ],
   "source": [
    "plot = fpl.Plot()\n",
    "\n",
    "# initialize line plot with pre-allocated with cosine\n",
    "xs = np.linspace(-10, 10, 100)\n",
    "ys = np.cos(xs)\n",
    "\n",
    "plot.add_line(data=np.column_stack((xs, ys)), name=\"line\")\n",
    "\n",
    "def update_frame(p):\n",
    "    # recieve memory with buffer\n",
    "    buff = get_buffer()\n",
    "    \n",
    "    if buff is not None:\n",
    "        # numpy array from buffer\n",
    "        a = np.frombuffer(buff, dtype=np.float64)\n",
    "        ix = a[-1]\n",
    "        print(ix)\n",
    "        # set graphic data\n",
    "        p[\"line\"].data = a[:-1].reshape(100, 2)\n",
    "        p.set_title(f\"frame: {ix}\")\n",
    "        # change graphic color\n",
    "        if ix % 2 == 0:\n",
    "            p[\"line\"].colors = \"blue\"\n",
    "        else:\n",
    "            p[\"line\"].colors = \"green\"\n",
    "\n",
    "plot.add_animations(update_frame)\n",
    "              \n",
    "plot.show()"
   ]
  },
  {
   "cell_type": "markdown",
   "id": "9a791d42-9ba1-4533-a4f2-98f191ba4ac9",
   "metadata": {},
   "source": [
    "## `fastplotlib` is non-blocking!"
   ]
  },
  {
   "cell_type": "code",
   "execution_count": 14,
   "id": "0832c6b1-7451-4837-9930-a3fe8c2a7d04",
   "metadata": {},
   "outputs": [
    {
     "data": {
      "text/plain": [
       "{'sent_frames': 384,\n",
       " 'confirmed_frames': 382,\n",
       " 'roundtrip': 0.0847632360708027,\n",
       " 'delivery': 0.047214247169294905,\n",
       " 'img_encoding': 0.004875763106307811,\n",
       " 'fps': 22.522775894964983}"
      ]
     },
     "execution_count": 14,
     "metadata": {},
     "output_type": "execute_result"
    }
   ],
   "source": [
    "plot.canvas.get_stats()"
   ]
  },
  {
   "cell_type": "code",
   "execution_count": null,
   "id": "33d3de01-1e1b-475d-a7f7-4213d00b9751",
   "metadata": {},
   "outputs": [],
   "source": []
  }
 ],
 "metadata": {
  "kernelspec": {
   "display_name": "Python 3 (ipykernel)",
   "language": "python",
   "name": "python3"
  },
  "language_info": {
   "codemirror_mode": {
    "name": "ipython",
    "version": 3
   },
   "file_extension": ".py",
   "mimetype": "text/x-python",
   "name": "python",
   "nbconvert_exporter": "python",
   "pygments_lexer": "ipython3",
   "version": "3.10.5"
  }
 },
 "nbformat": 4,
 "nbformat_minor": 5
}
