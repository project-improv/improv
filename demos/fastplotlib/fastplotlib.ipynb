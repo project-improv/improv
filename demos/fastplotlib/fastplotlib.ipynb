{
 "cells": [
  {
   "cell_type": "code",
   "execution_count": null,
   "id": "275928f7-8ed1-496a-b841-c8625d755874",
   "metadata": {
    "tags": []
   },
   "outputs": [],
   "source": [
    "import zmq\n",
    "import numpy as np\n",
    "from fastplotlib import Plot"
   ]
  },
  {
   "cell_type": "markdown",
   "id": "da757cf2-5de0-426f-a915-434244bbd970",
   "metadata": {},
   "source": [
    "### Setup zmq subscriber client"
   ]
  },
  {
   "cell_type": "code",
   "execution_count": null,
   "id": "6d4b4cad-175c-4de7-93fd-a78c00c74ab1",
   "metadata": {
    "tags": []
   },
   "outputs": [],
   "source": [
    "context = zmq.Context()\n",
    "sub = context.socket(zmq.SUB)\n",
    "sub.setsockopt(zmq.SUBSCRIBE, b\"\")\n",
    "\n",
    "# keep only the most recent message\n",
    "sub.setsockopt(zmq.CONFLATE, 1)\n",
    "\n",
    "# address must match publisher in Processor actor\n",
    "sub.connect(\"tcp://127.0.0.1:5555\")"
   ]
  },
  {
   "cell_type": "markdown",
   "id": "535c577e-07e3-4862-951d-3e35ee045df4",
   "metadata": {},
   "source": [
    "for testing things, benchmark zmq"
   ]
  },
  {
   "cell_type": "raw",
   "id": "df251a03-a0fa-4b84-b0f4-25617d90fcc9",
   "metadata": {
    "tags": []
   },
   "source": [
    "%%timeit\n",
    "try:\n",
    "    a = sub.recv(zmq.NOBLOCK)\n",
    "except zmq.Again:\n",
    "    pass"
   ]
  },
  {
   "cell_type": "code",
   "execution_count": null,
   "id": "e2d059cb-a7e5-46f0-8586-9fd39d6dd6fc",
   "metadata": {
    "tags": []
   },
   "outputs": [],
   "source": [
    "def get_buffer():\n",
    "    \"\"\"\n",
    "    Gets the buffer from the publisher\n",
    "    \"\"\"\n",
    "    try:\n",
    "        b = sub.recv(zmq.NOBLOCK)\n",
    "    except zmq.Again:\n",
    "        pass\n",
    "    else:\n",
    "        return b\n",
    "    \n",
    "    return None"
   ]
  },
  {
   "cell_type": "markdown",
   "id": "5b3f89a1-1a5d-45f2-8af7-56e55e2a0143",
   "metadata": {},
   "source": [
    "### Live plot that updates using the most recent message :D "
   ]
  },
  {
   "cell_type": "code",
   "execution_count": null,
   "id": "6bf49577-06be-44ec-93b1-ad50b3d4d794",
   "metadata": {
    "tags": []
   },
   "outputs": [],
   "source": [
    "plot = Plot()\n",
    "\n",
    "# initialize image graphic with zeros\n",
    "plot.add_image(\n",
    "    np.zeros((512, 512), dtype=np.uint16),\n",
    "    vmin=0,\n",
    "    vmax=255,\n",
    "    name=\"img\"\n",
    ")\n",
    "\n",
    "def update_frame(p):\n",
    "    # recieve memory with buffer\n",
    "    buff = get_buffer()\n",
    "    \n",
    "    if buff is not None:\n",
    "        # numpy array from buffer\n",
    "        a = np.frombuffer(buff, dtype=np.uint32)\n",
    "        ix = a[-1]\n",
    "        # set graphic data\n",
    "        p[\"img\"].data = a[:-1].reshape(512, 512)\n",
    "        p.set_title(f\"frame: {ix}\")\n",
    "\n",
    "plot.add_animations(update_frame)\n",
    "\n",
    "plot.show()"
   ]
  },
  {
   "cell_type": "markdown",
   "id": "bbb80338-49c3-4233-a98c-4c7f0e88825a",
   "metadata": {},
   "source": [
    "## **fastplotlib is non blocking!**"
   ]
  },
  {
   "cell_type": "code",
   "execution_count": null,
   "id": "e25aadce-bd4e-4597-85ca-b46d151009d3",
   "metadata": {
    "tags": []
   },
   "outputs": [],
   "source": [
    "plot.canvas.get_stats()"
   ]
  },
  {
   "cell_type": "code",
   "execution_count": null,
   "id": "eae5cd5b-2657-40c9-993b-26052439235e",
   "metadata": {
    "tags": []
   },
   "outputs": [],
   "source": [
    "plot[\"img\"].cmap = \"viridis\""
   ]
  },
  {
   "cell_type": "code",
   "execution_count": null,
   "id": "b4fb841c-0634-4227-9a3b-aef32a1a3b45",
   "metadata": {
    "tags": []
   },
   "outputs": [],
   "source": [
    "plot[\"img\"].vmax=300"
   ]
  },
  {
   "cell_type": "code",
   "execution_count": null,
   "id": "519f3a42-e684-4ca3-b301-8ef447ffd805",
   "metadata": {},
   "outputs": [],
   "source": []
  }
 ],
 "metadata": {
  "kernelspec": {
   "display_name": "Python 3 (ipykernel)",
   "language": "python",
   "name": "python3"
  },
  "language_info": {
   "codemirror_mode": {
    "name": "ipython",
    "version": 3
   },
   "file_extension": ".py",
   "mimetype": "text/x-python",
   "name": "python",
   "nbconvert_exporter": "python",
   "pygments_lexer": "ipython3",
   "version": "3.10.5"
  }
 },
 "nbformat": 4,
 "nbformat_minor": 5
}
